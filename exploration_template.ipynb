{
 "cells": [
  {
   "cell_type": "markdown",
   "metadata": {},
   "source": [
    "# Ford GoBike System Data\n",
    "## by Victor Nomwesigwa\n",
    "\n",
    "## Table of Contents\n",
    "- [Introduction](#intro)\n",
    "- [Preliminary Wrangling](#wrangling)\n",
    "- [Univariate Exploration](#univariate)\n",
    "- [Bivariate Exploration](#bivariate)\n",
    "- [Multivariate Exploration](#multivariate)\n",
    "\n",
    "<a id='intro'></a>\n",
    "## Introduction\n",
    "\n",
    "For this project, we shall concentrate on visualizing the [Ford GoBike System data set](https://www.lyft.com/bikes/bay-wheels/system-data) that includes information about individual rides made in a bike-sharing system covering the greater San Francisco Bay area.\n",
    "\n",
    "Features included the data set are:\n",
    "    - Trip Duration (seconds)\n",
    "    - Start Time and Date\n",
    "    - End Time and Date\n",
    "    - Start Station ID\n",
    "    - Start Station Name\n",
    "    - Start Station Latitude\n",
    "    - Start Station Longitude\n",
    "    - End Station ID\n",
    "    - End Station Name\n",
    "    - End Station Latitude\n",
    "    - End Station Longitude\n",
    "    - Bike ID\n",
    "    - User Type (Subscriber or Customer – “Subscriber” = Member or “Customer” = Casual)\n",
    "    - Member Year of Birth\n",
    "    - Member Gender\n",
    "    "
   ]
  },
  {
   "cell_type": "code",
   "execution_count": 1,
   "metadata": {},
   "outputs": [],
   "source": [
    "# import all packages and set plots to be embedded inline\n",
    "import numpy as np\n",
    "import pandas as pd\n",
    "import matplotlib.pyplot as plt\n",
    "import seaborn as sb\n",
    "import glob\n",
    "import os\n",
    "\n",
    "%matplotlib inline"
   ]
  },
  {
   "cell_type": "markdown",
   "metadata": {},
   "source": [
    "<a id='wrangling'></a>\n",
    "## Preliminary Wrangling"
   ]
  },
  {
   "cell_type": "markdown",
   "metadata": {},
   "source": [
    "### Gathering Data"
   ]
  },
  {
   "cell_type": "code",
   "execution_count": 2,
   "metadata": {},
   "outputs": [],
   "source": [
    "# path to where the files are stored\n",
    "path = './Ford-Bike-Data'\n",
    "\n",
    "# store list of all files with the csv extension\n",
    "all_files= glob.glob(os.path.join(path, \"*.csv\"))\n",
    "\n",
    "# concatenate the data \n",
    "df = pd.concat((pd.read_csv(f, low_memory=False) for f in all_files), ignore_index = True, sort = True)\n",
    "\n",
    "# store the data frame created in master_data.csv\n",
    "df.to_csv('master_data.csv', index=False)"
   ]
  },
  {
   "cell_type": "code",
   "execution_count": 3,
   "metadata": {},
   "outputs": [
    {
     "data": {
      "text/html": [
       "<div>\n",
       "<style scoped>\n",
       "    .dataframe tbody tr th:only-of-type {\n",
       "        vertical-align: middle;\n",
       "    }\n",
       "\n",
       "    .dataframe tbody tr th {\n",
       "        vertical-align: top;\n",
       "    }\n",
       "\n",
       "    .dataframe thead th {\n",
       "        text-align: right;\n",
       "    }\n",
       "</style>\n",
       "<table border=\"1\" class=\"dataframe\">\n",
       "  <thead>\n",
       "    <tr style=\"text-align: right;\">\n",
       "      <th></th>\n",
       "      <th>Unnamed: 16</th>\n",
       "      <th>bike_id</th>\n",
       "      <th>bike_share_for_all_trip</th>\n",
       "      <th>duration_sec</th>\n",
       "      <th>end_station_id</th>\n",
       "      <th>end_station_latitude</th>\n",
       "      <th>end_station_longitude</th>\n",
       "      <th>end_station_name</th>\n",
       "      <th>end_time</th>\n",
       "      <th>member_birth_year</th>\n",
       "      <th>member_gender</th>\n",
       "      <th>rental_access_method</th>\n",
       "      <th>start_station_id</th>\n",
       "      <th>start_station_latitude</th>\n",
       "      <th>start_station_longitude</th>\n",
       "      <th>start_station_name</th>\n",
       "      <th>start_time</th>\n",
       "      <th>user_type</th>\n",
       "    </tr>\n",
       "  </thead>\n",
       "  <tbody>\n",
       "    <tr>\n",
       "      <td>0</td>\n",
       "      <td>NaN</td>\n",
       "      <td>1035</td>\n",
       "      <td>No</td>\n",
       "      <td>598</td>\n",
       "      <td>114.0</td>\n",
       "      <td>37.764478</td>\n",
       "      <td>-122.402570</td>\n",
       "      <td>Rhode Island St at 17th St</td>\n",
       "      <td>2018-03-01 00:09:45.1870</td>\n",
       "      <td>1988.0</td>\n",
       "      <td>Male</td>\n",
       "      <td>NaN</td>\n",
       "      <td>284.0</td>\n",
       "      <td>37.784872</td>\n",
       "      <td>-122.400876</td>\n",
       "      <td>Yerba Buena Center for the Arts (Howard St at ...</td>\n",
       "      <td>2018-02-28 23:59:47.0970</td>\n",
       "      <td>Subscriber</td>\n",
       "    </tr>\n",
       "    <tr>\n",
       "      <td>1</td>\n",
       "      <td>NaN</td>\n",
       "      <td>1673</td>\n",
       "      <td>No</td>\n",
       "      <td>943</td>\n",
       "      <td>324.0</td>\n",
       "      <td>37.788300</td>\n",
       "      <td>-122.408531</td>\n",
       "      <td>Union Square (Powell St at Post St)</td>\n",
       "      <td>2018-02-28 23:36:59.9740</td>\n",
       "      <td>1987.0</td>\n",
       "      <td>Male</td>\n",
       "      <td>NaN</td>\n",
       "      <td>6.0</td>\n",
       "      <td>37.804770</td>\n",
       "      <td>-122.403234</td>\n",
       "      <td>The Embarcadero at Sansome St</td>\n",
       "      <td>2018-02-28 23:21:16.4950</td>\n",
       "      <td>Customer</td>\n",
       "    </tr>\n",
       "    <tr>\n",
       "      <td>2</td>\n",
       "      <td>NaN</td>\n",
       "      <td>3498</td>\n",
       "      <td>No</td>\n",
       "      <td>18587</td>\n",
       "      <td>15.0</td>\n",
       "      <td>37.795392</td>\n",
       "      <td>-122.394203</td>\n",
       "      <td>San Francisco Ferry Building (Harry Bridges Pl...</td>\n",
       "      <td>2018-02-28 23:30:42.9250</td>\n",
       "      <td>1986.0</td>\n",
       "      <td>Female</td>\n",
       "      <td>NaN</td>\n",
       "      <td>93.0</td>\n",
       "      <td>37.770407</td>\n",
       "      <td>-122.391198</td>\n",
       "      <td>4th St at Mission Bay Blvd S</td>\n",
       "      <td>2018-02-28 18:20:55.1900</td>\n",
       "      <td>Customer</td>\n",
       "    </tr>\n",
       "    <tr>\n",
       "      <td>3</td>\n",
       "      <td>NaN</td>\n",
       "      <td>3129</td>\n",
       "      <td>No</td>\n",
       "      <td>18558</td>\n",
       "      <td>15.0</td>\n",
       "      <td>37.795392</td>\n",
       "      <td>-122.394203</td>\n",
       "      <td>San Francisco Ferry Building (Harry Bridges Pl...</td>\n",
       "      <td>2018-02-28 23:30:12.4500</td>\n",
       "      <td>1981.0</td>\n",
       "      <td>Male</td>\n",
       "      <td>NaN</td>\n",
       "      <td>93.0</td>\n",
       "      <td>37.770407</td>\n",
       "      <td>-122.391198</td>\n",
       "      <td>4th St at Mission Bay Blvd S</td>\n",
       "      <td>2018-02-28 18:20:53.6210</td>\n",
       "      <td>Customer</td>\n",
       "    </tr>\n",
       "    <tr>\n",
       "      <td>4</td>\n",
       "      <td>NaN</td>\n",
       "      <td>1839</td>\n",
       "      <td>Yes</td>\n",
       "      <td>885</td>\n",
       "      <td>297.0</td>\n",
       "      <td>37.322980</td>\n",
       "      <td>-121.887931</td>\n",
       "      <td>Locust St at Grant St</td>\n",
       "      <td>2018-02-28 23:29:58.6080</td>\n",
       "      <td>1976.0</td>\n",
       "      <td>Female</td>\n",
       "      <td>NaN</td>\n",
       "      <td>308.0</td>\n",
       "      <td>37.336802</td>\n",
       "      <td>-121.894090</td>\n",
       "      <td>San Pedro Square</td>\n",
       "      <td>2018-02-28 23:15:12.8580</td>\n",
       "      <td>Subscriber</td>\n",
       "    </tr>\n",
       "  </tbody>\n",
       "</table>\n",
       "</div>"
      ],
      "text/plain": [
       "  Unnamed: 16  bike_id bike_share_for_all_trip  duration_sec  end_station_id  \\\n",
       "0         NaN     1035                      No           598           114.0   \n",
       "1         NaN     1673                      No           943           324.0   \n",
       "2         NaN     3498                      No         18587            15.0   \n",
       "3         NaN     3129                      No         18558            15.0   \n",
       "4         NaN     1839                     Yes           885           297.0   \n",
       "\n",
       "   end_station_latitude  end_station_longitude  \\\n",
       "0             37.764478            -122.402570   \n",
       "1             37.788300            -122.408531   \n",
       "2             37.795392            -122.394203   \n",
       "3             37.795392            -122.394203   \n",
       "4             37.322980            -121.887931   \n",
       "\n",
       "                                    end_station_name  \\\n",
       "0                         Rhode Island St at 17th St   \n",
       "1                Union Square (Powell St at Post St)   \n",
       "2  San Francisco Ferry Building (Harry Bridges Pl...   \n",
       "3  San Francisco Ferry Building (Harry Bridges Pl...   \n",
       "4                              Locust St at Grant St   \n",
       "\n",
       "                   end_time  member_birth_year member_gender  \\\n",
       "0  2018-03-01 00:09:45.1870             1988.0          Male   \n",
       "1  2018-02-28 23:36:59.9740             1987.0          Male   \n",
       "2  2018-02-28 23:30:42.9250             1986.0        Female   \n",
       "3  2018-02-28 23:30:12.4500             1981.0          Male   \n",
       "4  2018-02-28 23:29:58.6080             1976.0        Female   \n",
       "\n",
       "  rental_access_method  start_station_id  start_station_latitude  \\\n",
       "0                  NaN             284.0               37.784872   \n",
       "1                  NaN               6.0               37.804770   \n",
       "2                  NaN              93.0               37.770407   \n",
       "3                  NaN              93.0               37.770407   \n",
       "4                  NaN             308.0               37.336802   \n",
       "\n",
       "   start_station_longitude                                 start_station_name  \\\n",
       "0              -122.400876  Yerba Buena Center for the Arts (Howard St at ...   \n",
       "1              -122.403234                      The Embarcadero at Sansome St   \n",
       "2              -122.391198                       4th St at Mission Bay Blvd S   \n",
       "3              -122.391198                       4th St at Mission Bay Blvd S   \n",
       "4              -121.894090                                   San Pedro Square   \n",
       "\n",
       "                 start_time   user_type  \n",
       "0  2018-02-28 23:59:47.0970  Subscriber  \n",
       "1  2018-02-28 23:21:16.4950    Customer  \n",
       "2  2018-02-28 18:20:55.1900    Customer  \n",
       "3  2018-02-28 18:20:53.6210    Customer  \n",
       "4  2018-02-28 23:15:12.8580  Subscriber  "
      ]
     },
     "execution_count": 3,
     "metadata": {},
     "output_type": "execute_result"
    }
   ],
   "source": [
    "# load the dataset and read the first 5 rows\n",
    "df_bikes = pd.read_csv('master_data.csv', low_memory = False)\n",
    "df_bikes.head()"
   ]
  },
  {
   "cell_type": "markdown",
   "metadata": {},
   "source": [
    "### Assessing Data"
   ]
  },
  {
   "cell_type": "code",
   "execution_count": 4,
   "metadata": {},
   "outputs": [
    {
     "name": "stdout",
     "output_type": "stream",
     "text": [
      "<class 'pandas.core.frame.DataFrame'>\n",
      "RangeIndex: 4038695 entries, 0 to 4038694\n",
      "Data columns (total 18 columns):\n",
      "Unnamed: 16                object\n",
      "bike_id                    int64\n",
      "bike_share_for_all_trip    object\n",
      "duration_sec               int64\n",
      "end_station_id             float64\n",
      "end_station_latitude       float64\n",
      "end_station_longitude      float64\n",
      "end_station_name           object\n",
      "end_time                   object\n",
      "member_birth_year          float64\n",
      "member_gender              object\n",
      "rental_access_method       object\n",
      "start_station_id           float64\n",
      "start_station_latitude     float64\n",
      "start_station_longitude    float64\n",
      "start_station_name         object\n",
      "start_time                 object\n",
      "user_type                  object\n",
      "dtypes: float64(7), int64(2), object(9)\n",
      "memory usage: 554.6+ MB\n"
     ]
    }
   ],
   "source": [
    "# get genral information about the data set\n",
    "df_bikes.info()"
   ]
  },
  {
   "cell_type": "code",
   "execution_count": 5,
   "metadata": {},
   "outputs": [
    {
     "data": {
      "text/html": [
       "<div>\n",
       "<style scoped>\n",
       "    .dataframe tbody tr th:only-of-type {\n",
       "        vertical-align: middle;\n",
       "    }\n",
       "\n",
       "    .dataframe tbody tr th {\n",
       "        vertical-align: top;\n",
       "    }\n",
       "\n",
       "    .dataframe thead th {\n",
       "        text-align: right;\n",
       "    }\n",
       "</style>\n",
       "<table border=\"1\" class=\"dataframe\">\n",
       "  <thead>\n",
       "    <tr style=\"text-align: right;\">\n",
       "      <th></th>\n",
       "      <th>bike_id</th>\n",
       "      <th>duration_sec</th>\n",
       "      <th>end_station_id</th>\n",
       "      <th>end_station_latitude</th>\n",
       "      <th>end_station_longitude</th>\n",
       "      <th>member_birth_year</th>\n",
       "      <th>start_station_id</th>\n",
       "      <th>start_station_latitude</th>\n",
       "      <th>start_station_longitude</th>\n",
       "    </tr>\n",
       "  </thead>\n",
       "  <tbody>\n",
       "    <tr>\n",
       "      <td>count</td>\n",
       "      <td>4.038695e+06</td>\n",
       "      <td>4.038695e+06</td>\n",
       "      <td>4.004252e+06</td>\n",
       "      <td>4.038695e+06</td>\n",
       "      <td>4.038695e+06</td>\n",
       "      <td>3.719681e+06</td>\n",
       "      <td>4.004980e+06</td>\n",
       "      <td>4.038695e+06</td>\n",
       "      <td>4.038695e+06</td>\n",
       "    </tr>\n",
       "    <tr>\n",
       "      <td>mean</td>\n",
       "      <td>6.462647e+03</td>\n",
       "      <td>8.644626e+02</td>\n",
       "      <td>1.230363e+02</td>\n",
       "      <td>3.776762e+01</td>\n",
       "      <td>-1.223502e+02</td>\n",
       "      <td>1.983449e+03</td>\n",
       "      <td>1.249896e+02</td>\n",
       "      <td>3.776763e+01</td>\n",
       "      <td>-1.223513e+02</td>\n",
       "    </tr>\n",
       "    <tr>\n",
       "      <td>std</td>\n",
       "      <td>4.639322e+04</td>\n",
       "      <td>2.367408e+03</td>\n",
       "      <td>1.061886e+02</td>\n",
       "      <td>1.307965e-01</td>\n",
       "      <td>2.987181e-01</td>\n",
       "      <td>1.041264e+01</td>\n",
       "      <td>1.064513e+02</td>\n",
       "      <td>1.054754e-01</td>\n",
       "      <td>1.623125e-01</td>\n",
       "    </tr>\n",
       "    <tr>\n",
       "      <td>min</td>\n",
       "      <td>1.000000e+01</td>\n",
       "      <td>6.000000e+01</td>\n",
       "      <td>3.000000e+00</td>\n",
       "      <td>0.000000e+00</td>\n",
       "      <td>-1.224737e+02</td>\n",
       "      <td>1.878000e+03</td>\n",
       "      <td>3.000000e+00</td>\n",
       "      <td>0.000000e+00</td>\n",
       "      <td>-1.224737e+02</td>\n",
       "    </tr>\n",
       "    <tr>\n",
       "      <td>25%</td>\n",
       "      <td>1.285000e+03</td>\n",
       "      <td>3.540000e+02</td>\n",
       "      <td>3.000000e+01</td>\n",
       "      <td>3.777106e+01</td>\n",
       "      <td>-1.224108e+02</td>\n",
       "      <td>1.978000e+03</td>\n",
       "      <td>3.600000e+01</td>\n",
       "      <td>3.777106e+01</td>\n",
       "      <td>-1.224117e+02</td>\n",
       "    </tr>\n",
       "    <tr>\n",
       "      <td>50%</td>\n",
       "      <td>2.497000e+03</td>\n",
       "      <td>5.620000e+02</td>\n",
       "      <td>8.900000e+01</td>\n",
       "      <td>3.778107e+01</td>\n",
       "      <td>-1.223971e+02</td>\n",
       "      <td>1.986000e+03</td>\n",
       "      <td>9.000000e+01</td>\n",
       "      <td>3.778107e+01</td>\n",
       "      <td>-1.223974e+02</td>\n",
       "    </tr>\n",
       "    <tr>\n",
       "      <td>75%</td>\n",
       "      <td>3.660000e+03</td>\n",
       "      <td>8.800000e+02</td>\n",
       "      <td>1.940000e+02</td>\n",
       "      <td>3.779728e+01</td>\n",
       "      <td>-1.222914e+02</td>\n",
       "      <td>1.991000e+03</td>\n",
       "      <td>1.950000e+02</td>\n",
       "      <td>3.779591e+01</td>\n",
       "      <td>-1.222912e+02</td>\n",
       "    </tr>\n",
       "    <tr>\n",
       "      <td>max</td>\n",
       "      <td>9.969630e+05</td>\n",
       "      <td>8.636900e+04</td>\n",
       "      <td>4.590000e+02</td>\n",
       "      <td>4.551000e+01</td>\n",
       "      <td>0.000000e+00</td>\n",
       "      <td>2.001000e+03</td>\n",
       "      <td>4.590000e+02</td>\n",
       "      <td>4.551000e+01</td>\n",
       "      <td>0.000000e+00</td>\n",
       "    </tr>\n",
       "  </tbody>\n",
       "</table>\n",
       "</div>"
      ],
      "text/plain": [
       "            bike_id  duration_sec  end_station_id  end_station_latitude  \\\n",
       "count  4.038695e+06  4.038695e+06    4.004252e+06          4.038695e+06   \n",
       "mean   6.462647e+03  8.644626e+02    1.230363e+02          3.776762e+01   \n",
       "std    4.639322e+04  2.367408e+03    1.061886e+02          1.307965e-01   \n",
       "min    1.000000e+01  6.000000e+01    3.000000e+00          0.000000e+00   \n",
       "25%    1.285000e+03  3.540000e+02    3.000000e+01          3.777106e+01   \n",
       "50%    2.497000e+03  5.620000e+02    8.900000e+01          3.778107e+01   \n",
       "75%    3.660000e+03  8.800000e+02    1.940000e+02          3.779728e+01   \n",
       "max    9.969630e+05  8.636900e+04    4.590000e+02          4.551000e+01   \n",
       "\n",
       "       end_station_longitude  member_birth_year  start_station_id  \\\n",
       "count           4.038695e+06       3.719681e+06      4.004980e+06   \n",
       "mean           -1.223502e+02       1.983449e+03      1.249896e+02   \n",
       "std             2.987181e-01       1.041264e+01      1.064513e+02   \n",
       "min            -1.224737e+02       1.878000e+03      3.000000e+00   \n",
       "25%            -1.224108e+02       1.978000e+03      3.600000e+01   \n",
       "50%            -1.223971e+02       1.986000e+03      9.000000e+01   \n",
       "75%            -1.222914e+02       1.991000e+03      1.950000e+02   \n",
       "max             0.000000e+00       2.001000e+03      4.590000e+02   \n",
       "\n",
       "       start_station_latitude  start_station_longitude  \n",
       "count            4.038695e+06             4.038695e+06  \n",
       "mean             3.776763e+01            -1.223513e+02  \n",
       "std              1.054754e-01             1.623125e-01  \n",
       "min              0.000000e+00            -1.224737e+02  \n",
       "25%              3.777106e+01            -1.224117e+02  \n",
       "50%              3.778107e+01            -1.223974e+02  \n",
       "75%              3.779591e+01            -1.222912e+02  \n",
       "max              4.551000e+01             0.000000e+00  "
      ]
     },
     "execution_count": 5,
     "metadata": {},
     "output_type": "execute_result"
    }
   ],
   "source": [
    "# get statistical information\n",
    "df_bikes.describe()"
   ]
  },
  {
   "cell_type": "code",
   "execution_count": 6,
   "metadata": {},
   "outputs": [
    {
     "data": {
      "text/plain": [
       "app        25815\n",
       "clipper     3809\n",
       "Name: Unnamed: 16, dtype: int64"
      ]
     },
     "execution_count": 6,
     "metadata": {},
     "output_type": "execute_result"
    }
   ],
   "source": [
    "# study the unnamed column 16 that was created\n",
    "df_bikes['Unnamed: 16'].value_counts()"
   ]
  },
  {
   "cell_type": "code",
   "execution_count": 7,
   "metadata": {},
   "outputs": [
    {
     "data": {
      "text/plain": [
       "float"
      ]
     },
     "execution_count": 7,
     "metadata": {},
     "output_type": "execute_result"
    }
   ],
   "source": [
    "type(df_bikes['Unnamed: 16'][0])"
   ]
  },
  {
   "cell_type": "code",
   "execution_count": 8,
   "metadata": {},
   "outputs": [
    {
     "data": {
      "text/plain": [
       "str"
      ]
     },
     "execution_count": 8,
     "metadata": {},
     "output_type": "execute_result"
    }
   ],
   "source": [
    "type(df_bikes['bike_share_for_all_trip'][0])"
   ]
  },
  {
   "cell_type": "code",
   "execution_count": 9,
   "metadata": {},
   "outputs": [
    {
     "data": {
      "text/plain": [
       "str"
      ]
     },
     "execution_count": 9,
     "metadata": {},
     "output_type": "execute_result"
    }
   ],
   "source": [
    "type(df_bikes['end_time'][0])"
   ]
  },
  {
   "cell_type": "code",
   "execution_count": 10,
   "metadata": {},
   "outputs": [
    {
     "data": {
      "text/plain": [
       "str"
      ]
     },
     "execution_count": 10,
     "metadata": {},
     "output_type": "execute_result"
    }
   ],
   "source": [
    "type(df_bikes['member_gender'][0])"
   ]
  },
  {
   "cell_type": "code",
   "execution_count": 11,
   "metadata": {},
   "outputs": [
    {
     "data": {
      "text/plain": [
       "float"
      ]
     },
     "execution_count": 11,
     "metadata": {},
     "output_type": "execute_result"
    }
   ],
   "source": [
    "type(df_bikes['rental_access_method'][0])"
   ]
  },
  {
   "cell_type": "code",
   "execution_count": 12,
   "metadata": {},
   "outputs": [
    {
     "data": {
      "text/plain": [
       "str"
      ]
     },
     "execution_count": 12,
     "metadata": {},
     "output_type": "execute_result"
    }
   ],
   "source": [
    "type(df_bikes['start_station_name'][0])"
   ]
  },
  {
   "cell_type": "code",
   "execution_count": 13,
   "metadata": {},
   "outputs": [
    {
     "data": {
      "text/plain": [
       "str"
      ]
     },
     "execution_count": 13,
     "metadata": {},
     "output_type": "execute_result"
    }
   ],
   "source": [
    "type(df_bikes['start_time'][0])"
   ]
  },
  {
   "cell_type": "code",
   "execution_count": 14,
   "metadata": {},
   "outputs": [
    {
     "data": {
      "text/plain": [
       "str"
      ]
     },
     "execution_count": 14,
     "metadata": {},
     "output_type": "execute_result"
    }
   ],
   "source": [
    "type(df_bikes['user_type'][0])"
   ]
  },
  {
   "cell_type": "code",
   "execution_count": 15,
   "metadata": {},
   "outputs": [
    {
     "data": {
      "text/plain": [
       "Male      2742688\n",
       "Female     891597\n",
       "Other       60424\n",
       "M           19885\n",
       "F            5076\n",
       "?            2589\n",
       "O             456\n",
       "Name: member_gender, dtype: int64"
      ]
     },
     "execution_count": 15,
     "metadata": {},
     "output_type": "execute_result"
    }
   ],
   "source": [
    "# study the unnamed column 16 that was created\n",
    "df_bikes['member_gender'].value_counts()"
   ]
  },
  {
   "cell_type": "code",
   "execution_count": 16,
   "metadata": {},
   "outputs": [
    {
     "data": {
      "text/plain": [
       "Subscriber    3389168\n",
       "Customer       649527\n",
       "Name: user_type, dtype: int64"
      ]
     },
     "execution_count": 16,
     "metadata": {},
     "output_type": "execute_result"
    }
   ],
   "source": [
    "df_bikes['user_type'].value_counts()"
   ]
  },
  {
   "cell_type": "code",
   "execution_count": 17,
   "metadata": {},
   "outputs": [
    {
     "data": {
      "text/plain": [
       "0"
      ]
     },
     "execution_count": 17,
     "metadata": {},
     "output_type": "execute_result"
    }
   ],
   "source": [
    "# check for duplicates\n",
    "df_bikes.duplicated().sum()"
   ]
  },
  {
   "cell_type": "code",
   "execution_count": 18,
   "metadata": {},
   "outputs": [
    {
     "data": {
      "text/plain": [
       "1988.0    211588\n",
       "1989.0    184798\n",
       "1987.0    179285\n",
       "1990.0    176408\n",
       "1991.0    170294\n",
       "           ...  \n",
       "1886.0         3\n",
       "1906.0         2\n",
       "1903.0         1\n",
       "1910.0         1\n",
       "1919.0         1\n",
       "Name: member_birth_year, Length: 96, dtype: int64"
      ]
     },
     "execution_count": 18,
     "metadata": {},
     "output_type": "execute_result"
    }
   ],
   "source": [
    "df_bikes['member_birth_year'].value_counts()"
   ]
  },
  {
   "cell_type": "code",
   "execution_count": 19,
   "metadata": {},
   "outputs": [
    {
     "data": {
      "text/plain": [
       "Unnamed: 16                4009071\n",
       "bike_id                          0\n",
       "bike_share_for_all_trip     553217\n",
       "duration_sec                     0\n",
       "end_station_id               34443\n",
       "end_station_latitude             0\n",
       "end_station_longitude            0\n",
       "end_station_name             34440\n",
       "end_time                         0\n",
       "member_birth_year           319014\n",
       "member_gender               315980\n",
       "rental_access_method       4034802\n",
       "start_station_id             33715\n",
       "start_station_latitude           0\n",
       "start_station_longitude          0\n",
       "start_station_name           33711\n",
       "start_time                       0\n",
       "user_type                        0\n",
       "dtype: int64"
      ]
     },
     "execution_count": 19,
     "metadata": {},
     "output_type": "execute_result"
    }
   ],
   "source": [
    "df_bikes.isnull().sum(axis=0)"
   ]
  },
  {
   "cell_type": "markdown",
   "metadata": {},
   "source": [
    "#### Quality Issues\n",
    "- The data set has columns that are not needed to this analysis\n",
    "- member_gender has values that represent the same thing but labeled differently for example `Male` and `M` both represent males in the data set\n",
    "- `start_time` and `end_time` have a string data instead of datetime\n",
    "- `member_birth_year` has years dating as far back as 1886\n",
    "- user type, gender and bike_share_for_all_trip can be set to category"
   ]
  },
  {
   "cell_type": "markdown",
   "metadata": {},
   "source": [
    "### Cleaning Data"
   ]
  },
  {
   "cell_type": "code",
   "execution_count": 20,
   "metadata": {},
   "outputs": [],
   "source": [
    "# make a copy of data to be cleaned\n",
    "df_bikes_copy = df_bikes.copy()"
   ]
  },
  {
   "cell_type": "markdown",
   "metadata": {},
   "source": [
    "#### Quality Issue 1: The data set has columns that are not needed to this analysis\n",
    "\n",
    "#### Define: Remove columns that are not needed for this analysis"
   ]
  },
  {
   "cell_type": "markdown",
   "metadata": {},
   "source": [
    "#### Code"
   ]
  },
  {
   "cell_type": "code",
   "execution_count": 21,
   "metadata": {},
   "outputs": [],
   "source": [
    "df_bikes_copy.drop(['Unnamed: 16', 'rental_access_method'], axis=1, inplace=True)"
   ]
  },
  {
   "cell_type": "markdown",
   "metadata": {},
   "source": [
    "#### Test"
   ]
  },
  {
   "cell_type": "code",
   "execution_count": 22,
   "metadata": {},
   "outputs": [
    {
     "data": {
      "text/plain": [
       "Index(['bike_id', 'bike_share_for_all_trip', 'duration_sec', 'end_station_id',\n",
       "       'end_station_latitude', 'end_station_longitude', 'end_station_name',\n",
       "       'end_time', 'member_birth_year', 'member_gender', 'start_station_id',\n",
       "       'start_station_latitude', 'start_station_longitude',\n",
       "       'start_station_name', 'start_time', 'user_type'],\n",
       "      dtype='object')"
      ]
     },
     "execution_count": 22,
     "metadata": {},
     "output_type": "execute_result"
    }
   ],
   "source": [
    "df_bikes_copy.columns"
   ]
  },
  {
   "cell_type": "markdown",
   "metadata": {},
   "source": [
    "#### Quality Issue 2: member_gender has values that represent the same thing but labeled differently for example Male and M both represent males in the data set\n",
    "\n",
    "#### Define: Rename all values in column member_gender that represent the same thing. The ? gender can be replaced with undisclosed"
   ]
  },
  {
   "cell_type": "markdown",
   "metadata": {},
   "source": [
    "#### Code"
   ]
  },
  {
   "cell_type": "code",
   "execution_count": 23,
   "metadata": {},
   "outputs": [],
   "source": [
    "df_bikes_copy['member_gender'].replace('M', 'Male',inplace = True)\n",
    "df_bikes_copy['member_gender'].replace('F', 'Female',inplace = True)\n",
    "df_bikes_copy['member_gender'].replace('O', 'Other',inplace = True)\n",
    "df_bikes_copy['member_gender'].replace('?', 'Undisclosed',inplace = True)"
   ]
  },
  {
   "cell_type": "markdown",
   "metadata": {},
   "source": [
    "#### Test"
   ]
  },
  {
   "cell_type": "code",
   "execution_count": 24,
   "metadata": {},
   "outputs": [
    {
     "data": {
      "text/plain": [
       "Male           2762573\n",
       "Female          896673\n",
       "Other            60880\n",
       "Undisclosed       2589\n",
       "Name: member_gender, dtype: int64"
      ]
     },
     "execution_count": 24,
     "metadata": {},
     "output_type": "execute_result"
    }
   ],
   "source": [
    "df_bikes_copy['member_gender'].value_counts()"
   ]
  },
  {
   "cell_type": "markdown",
   "metadata": {},
   "source": [
    "#### Quality Issue 3: start_time and end_time have a string data instead of datetime\n",
    "\n",
    "#### Define: change data type for start_time and end_time"
   ]
  },
  {
   "cell_type": "markdown",
   "metadata": {},
   "source": [
    "#### Code"
   ]
  },
  {
   "cell_type": "code",
   "execution_count": 25,
   "metadata": {},
   "outputs": [],
   "source": [
    "df_bikes_copy['start_time'] = pd.to_datetime(df_bikes_copy['start_time'])\n",
    "df_bikes_copy['end_time'] = pd.to_datetime(df_bikes_copy['end_time'])"
   ]
  },
  {
   "cell_type": "markdown",
   "metadata": {},
   "source": [
    "#### Test"
   ]
  },
  {
   "cell_type": "code",
   "execution_count": 26,
   "metadata": {},
   "outputs": [
    {
     "data": {
      "text/plain": [
       "pandas._libs.tslibs.timestamps.Timestamp"
      ]
     },
     "execution_count": 26,
     "metadata": {},
     "output_type": "execute_result"
    }
   ],
   "source": [
    "type(df_bikes_copy['end_time'][0])"
   ]
  },
  {
   "cell_type": "code",
   "execution_count": 27,
   "metadata": {},
   "outputs": [
    {
     "data": {
      "text/plain": [
       "pandas._libs.tslibs.timestamps.Timestamp"
      ]
     },
     "execution_count": 27,
     "metadata": {},
     "output_type": "execute_result"
    }
   ],
   "source": [
    "type(df_bikes_copy['start_time'][0])"
   ]
  },
  {
   "cell_type": "markdown",
   "metadata": {},
   "source": [
    "#### Quality Issue 4: member_birth_year has years dating as far back as 1886\n",
    "\n",
    "#### Define: Assuming that most seniors stop riding bikes at the age of 65, we shall remove all records of ages above 65. "
   ]
  },
  {
   "cell_type": "markdown",
   "metadata": {},
   "source": [
    "#### Code"
   ]
  },
  {
   "cell_type": "code",
   "execution_count": 28,
   "metadata": {},
   "outputs": [],
   "source": [
    "# calculate age\n",
    "df_bikes_copy['member_age'] = 2019-df_bikes_copy['member_birth_year']"
   ]
  },
  {
   "cell_type": "code",
   "execution_count": 29,
   "metadata": {},
   "outputs": [],
   "source": [
    "df_bikes_copy = df_bikes_copy.query('member_age <=65')"
   ]
  },
  {
   "cell_type": "markdown",
   "metadata": {},
   "source": [
    "#### Test"
   ]
  },
  {
   "cell_type": "code",
   "execution_count": 30,
   "metadata": {},
   "outputs": [
    {
     "data": {
      "text/plain": [
       "31.0    211588\n",
       "30.0    184798\n",
       "32.0    179285\n",
       "29.0    176408\n",
       "28.0    170294\n",
       "26.0    167555\n",
       "34.0    162645\n",
       "33.0    160611\n",
       "27.0    155031\n",
       "35.0    147975\n",
       "25.0    141065\n",
       "36.0    133614\n",
       "37.0    127525\n",
       "24.0    122455\n",
       "39.0    104589\n",
       "38.0    103493\n",
       "23.0     83425\n",
       "40.0     81983\n",
       "42.0     75990\n",
       "41.0     73027\n",
       "44.0     66743\n",
       "45.0     58911\n",
       "22.0     58840\n",
       "43.0     58697\n",
       "46.0     52693\n",
       "48.0     49931\n",
       "51.0     49793\n",
       "21.0     48949\n",
       "47.0     44844\n",
       "54.0     43950\n",
       "49.0     42238\n",
       "50.0     37707\n",
       "52.0     34286\n",
       "20.0     32890\n",
       "56.0     31217\n",
       "55.0     26950\n",
       "53.0     26370\n",
       "57.0     25381\n",
       "58.0     21901\n",
       "59.0     18745\n",
       "60.0     16860\n",
       "61.0     16343\n",
       "19.0     15832\n",
       "62.0     13412\n",
       "63.0     11633\n",
       "65.0      8504\n",
       "64.0      5947\n",
       "18.0      1349\n",
       "Name: member_age, dtype: int64"
      ]
     },
     "execution_count": 30,
     "metadata": {},
     "output_type": "execute_result"
    }
   ],
   "source": [
    "df_bikes_copy.member_age.value_counts()"
   ]
  },
  {
   "cell_type": "markdown",
   "metadata": {},
   "source": [
    "#### Quality Issue 5: user_type, gender and bike_share_for_all_trip can be set to category\n",
    "\n",
    "#### Define: change data type for user_type, member_gender, bike_share_for_all_trip to category"
   ]
  },
  {
   "cell_type": "markdown",
   "metadata": {},
   "source": [
    "#### Code"
   ]
  },
  {
   "cell_type": "code",
   "execution_count": 31,
   "metadata": {},
   "outputs": [],
   "source": [
    "df_bikes_copy.user_type = df_bikes_copy.user_type.astype('category')\n",
    "df_bikes_copy.member_gender = df_bikes_copy.member_gender.astype('category')\n",
    "df_bikes_copy.bike_share_for_all_trip = df_bikes_copy.bike_share_for_all_trip.astype('category')"
   ]
  },
  {
   "cell_type": "markdown",
   "metadata": {},
   "source": [
    "#### Test"
   ]
  },
  {
   "cell_type": "code",
   "execution_count": 32,
   "metadata": {},
   "outputs": [
    {
     "name": "stdout",
     "output_type": "stream",
     "text": [
      "<class 'pandas.core.frame.DataFrame'>\n",
      "Int64Index: 3684272 entries, 0 to 4038694\n",
      "Data columns (total 17 columns):\n",
      "bike_id                    int64\n",
      "bike_share_for_all_trip    category\n",
      "duration_sec               int64\n",
      "end_station_id             float64\n",
      "end_station_latitude       float64\n",
      "end_station_longitude      float64\n",
      "end_station_name           object\n",
      "end_time                   datetime64[ns]\n",
      "member_birth_year          float64\n",
      "member_gender              category\n",
      "start_station_id           float64\n",
      "start_station_latitude     float64\n",
      "start_station_longitude    float64\n",
      "start_station_name         object\n",
      "start_time                 datetime64[ns]\n",
      "user_type                  category\n",
      "member_age                 float64\n",
      "dtypes: category(3), datetime64[ns](2), float64(8), int64(2), object(2)\n",
      "memory usage: 432.2+ MB\n"
     ]
    }
   ],
   "source": [
    "df_bikes_copy.info()"
   ]
  },
  {
   "cell_type": "markdown",
   "metadata": {},
   "source": [
    "#### Extract cleaning day of the week, month, time of the day from start_time and end_time"
   ]
  },
  {
   "cell_type": "code",
   "execution_count": 33,
   "metadata": {},
   "outputs": [],
   "source": [
    "# start time month\n",
    "df_bikes_copy['start_time_month'] = df_bikes_copy['start_time'].dt.strftime('%B')"
   ]
  },
  {
   "cell_type": "code",
   "execution_count": 34,
   "metadata": {},
   "outputs": [],
   "source": [
    "# start time weekday\n",
    "df_bikes_copy['start_time_weekday'] = df_bikes_copy['start_time'].dt.strftime('%a')"
   ]
  },
  {
   "cell_type": "code",
   "execution_count": 35,
   "metadata": {},
   "outputs": [],
   "source": [
    "# start time day\n",
    "df_bikes_copy['start_time_day']=df_bikes_copy['start_time'].dt.day.astype(int)"
   ]
  },
  {
   "cell_type": "code",
   "execution_count": 36,
   "metadata": {},
   "outputs": [],
   "source": [
    "#start time hour\n",
    "df_bikes_copy['start_time_hour']=df_bikes_copy['start_time'].dt.hour"
   ]
  },
  {
   "cell_type": "code",
   "execution_count": 37,
   "metadata": {},
   "outputs": [],
   "source": [
    "# start time month number\n",
    "df_bikes_copy['start_time_month_no']=df_bikes_copy['start_time'].dt.month.astype(int)"
   ]
  },
  {
   "cell_type": "code",
   "execution_count": 38,
   "metadata": {},
   "outputs": [],
   "source": [
    "# end time month\n",
    "df_bikes_copy['end_time_month'] = df_bikes_copy['end_time'].dt.strftime('%B')"
   ]
  },
  {
   "cell_type": "code",
   "execution_count": 39,
   "metadata": {},
   "outputs": [],
   "source": [
    "# end time weekday\n",
    "df_bikes_copy['end_time_weekday'] = df_bikes_copy['end_time'].dt.strftime('%a')"
   ]
  },
  {
   "cell_type": "code",
   "execution_count": 40,
   "metadata": {},
   "outputs": [],
   "source": [
    "# end time day\n",
    "df_bikes_copy['end_time_day']=df_bikes_copy['end_time'].dt.day.astype(int)"
   ]
  },
  {
   "cell_type": "code",
   "execution_count": 41,
   "metadata": {},
   "outputs": [],
   "source": [
    "#end time hour\n",
    "df_bikes_copy['end_time_hour']=df_bikes_copy['end_time'].dt.hour"
   ]
  },
  {
   "cell_type": "code",
   "execution_count": 42,
   "metadata": {},
   "outputs": [],
   "source": [
    "# end time month number\n",
    "df_bikes_copy['end_time_month_no']=df_bikes_copy['end_time'].dt.month.astype(int)"
   ]
  },
  {
   "cell_type": "code",
   "execution_count": 43,
   "metadata": {},
   "outputs": [],
   "source": [
    "# make a copy of the clean dataframe\n",
    "df_master = df_bikes_copy.copy()"
   ]
  },
  {
   "cell_type": "markdown",
   "metadata": {},
   "source": [
    "### Storing"
   ]
  },
  {
   "cell_type": "code",
   "execution_count": 44,
   "metadata": {},
   "outputs": [],
   "source": [
    "# Store the clean DataFrame in a CSV file with the main one named df_bikes_master.csv.\n",
    "df_master.to_csv('df_bikes_master.csv', index= False, encoding='utf-8')"
   ]
  },
  {
   "cell_type": "markdown",
   "metadata": {},
   "source": [
    "### What is the structure of the dataset?\n",
    "\n",
    "> The data set includes multiple csv files from 2017, 2018 and the last 8 months in 2019 with 4038695 rows and 18 features.\n",
    "\n",
    "### What are the main features of interest in the dataset?\n",
    "\n",
    "    - How long does the average trip take?\n",
    "    - Is the trip duration affected by weather( months/seasons)?\n",
    "    - Does the above depend on if a user is a subscriber or customer?\n",
    "\n",
    "### What features in the dataset do you think will help support the investigation into the feature(s) of interest?\n",
    "\n",
    "> Trip Duration (seconds), Start Time and Date , End Time and Date, User Type "
   ]
  },
  {
   "cell_type": "markdown",
   "metadata": {},
   "source": [
    "<a id='univariate'></a>\n",
    "## Univariate Exploration\n",
    "\n",
    "Let's start our exploration by looking at how long the average trip takes. Is the distribution skewed or symmetric? Is it unimodal or multimodal?"
   ]
  },
  {
   "cell_type": "code",
   "execution_count": 45,
   "metadata": {},
   "outputs": [
    {
     "data": {
      "text/plain": [
       "Text(0, 0.5, 'Bike Trips')"
      ]
     },
     "execution_count": 45,
     "metadata": {},
     "output_type": "execute_result"
    },
    {
     "data": {
      "image/png": "[encoded data removed]",
      "text/plain": [
       "<Figure size 432x288 with 1 Axes>"
      ]
     },
     "metadata": {
      "needs_background": "light"
     },
     "output_type": "display_data"
    }
   ],
   "source": [
    "# univariate plot of trip duration in sec\n",
    "bin_edges = np.arange(0 , df_master['duration_sec'].max()+100 , 100)\n",
    "plt.hist(data = df_master , x = 'duration_sec', bins = bin_edges);\n",
    "plt.xlim(0,4000)\n",
    "plt.title('Distribution of Trip Duration(s)')\n",
    "plt.xlabel('Duration in Seconds')\n",
    "plt.ylabel('Bike Trips')"
   ]
  },
  {
   "cell_type": "markdown",
   "metadata": {},
   "source": [
    "We have created a histogram since `duration_sec` is a numeric variable. Our plot shows a highly right skewed distribution. We also observe that there is a long tail on the right and we shall explore that by trying a log scaling."
   ]
  },
  {
   "cell_type": "markdown",
   "metadata": {},
   "source": [
    "Note, measuring trips is seconds is unreasonable and can be difficult to deal with. Let us first convert the seconds to minutes before doing the log transformation."
   ]
  },
  {
   "cell_type": "code",
   "execution_count": 46,
   "metadata": {},
   "outputs": [],
   "source": [
    "df_master['duration_min'] = df_master['duration_sec']/60"
   ]
  },
  {
   "cell_type": "code",
   "execution_count": 47,
   "metadata": {},
   "outputs": [
    {
     "data": {
      "text/html": [
       "<div>\n",
       "<style scoped>\n",
       "    .dataframe tbody tr th:only-of-type {\n",
       "        vertical-align: middle;\n",
       "    }\n",
       "\n",
       "    .dataframe tbody tr th {\n",
       "        vertical-align: top;\n",
       "    }\n",
       "\n",
       "    .dataframe thead th {\n",
       "        text-align: right;\n",
       "    }\n",
       "</style>\n",
       "<table border=\"1\" class=\"dataframe\">\n",
       "  <thead>\n",
       "    <tr style=\"text-align: right;\">\n",
       "      <th></th>\n",
       "      <th>bike_id</th>\n",
       "      <th>bike_share_for_all_trip</th>\n",
       "      <th>duration_sec</th>\n",
       "      <th>end_station_id</th>\n",
       "      <th>end_station_latitude</th>\n",
       "      <th>end_station_longitude</th>\n",
       "      <th>end_station_name</th>\n",
       "      <th>end_time</th>\n",
       "      <th>member_birth_year</th>\n",
       "      <th>member_gender</th>\n",
       "      <th>...</th>\n",
       "      <th>start_time_weekday</th>\n",
       "      <th>start_time_day</th>\n",
       "      <th>start_time_hour</th>\n",
       "      <th>start_time_month_no</th>\n",
       "      <th>end_time_month</th>\n",
       "      <th>end_time_weekday</th>\n",
       "      <th>end_time_day</th>\n",
       "      <th>end_time_hour</th>\n",
       "      <th>end_time_month_no</th>\n",
       "      <th>duration_min</th>\n",
       "    </tr>\n",
       "  </thead>\n",
       "  <tbody>\n",
       "    <tr>\n",
       "      <td>0</td>\n",
       "      <td>1035</td>\n",
       "      <td>No</td>\n",
       "      <td>598</td>\n",
       "      <td>114.0</td>\n",
       "      <td>37.764478</td>\n",
       "      <td>-122.402570</td>\n",
       "      <td>Rhode Island St at 17th St</td>\n",
       "      <td>2018-03-01 00:09:45.187</td>\n",
       "      <td>1988.0</td>\n",
       "      <td>Male</td>\n",
       "      <td>...</td>\n",
       "      <td>Wed</td>\n",
       "      <td>28</td>\n",
       "      <td>23</td>\n",
       "      <td>2</td>\n",
       "      <td>March</td>\n",
       "      <td>Thu</td>\n",
       "      <td>1</td>\n",
       "      <td>0</td>\n",
       "      <td>3</td>\n",
       "      <td>9.966667</td>\n",
       "    </tr>\n",
       "    <tr>\n",
       "      <td>1</td>\n",
       "      <td>1673</td>\n",
       "      <td>No</td>\n",
       "      <td>943</td>\n",
       "      <td>324.0</td>\n",
       "      <td>37.788300</td>\n",
       "      <td>-122.408531</td>\n",
       "      <td>Union Square (Powell St at Post St)</td>\n",
       "      <td>2018-02-28 23:36:59.974</td>\n",
       "      <td>1987.0</td>\n",
       "      <td>Male</td>\n",
       "      <td>...</td>\n",
       "      <td>Wed</td>\n",
       "      <td>28</td>\n",
       "      <td>23</td>\n",
       "      <td>2</td>\n",
       "      <td>February</td>\n",
       "      <td>Wed</td>\n",
       "      <td>28</td>\n",
       "      <td>23</td>\n",
       "      <td>2</td>\n",
       "      <td>15.716667</td>\n",
       "    </tr>\n",
       "    <tr>\n",
       "      <td>2</td>\n",
       "      <td>3498</td>\n",
       "      <td>No</td>\n",
       "      <td>18587</td>\n",
       "      <td>15.0</td>\n",
       "      <td>37.795392</td>\n",
       "      <td>-122.394203</td>\n",
       "      <td>San Francisco Ferry Building (Harry Bridges Pl...</td>\n",
       "      <td>2018-02-28 23:30:42.925</td>\n",
       "      <td>1986.0</td>\n",
       "      <td>Female</td>\n",
       "      <td>...</td>\n",
       "      <td>Wed</td>\n",
       "      <td>28</td>\n",
       "      <td>18</td>\n",
       "      <td>2</td>\n",
       "      <td>February</td>\n",
       "      <td>Wed</td>\n",
       "      <td>28</td>\n",
       "      <td>23</td>\n",
       "      <td>2</td>\n",
       "      <td>309.783333</td>\n",
       "    </tr>\n",
       "    <tr>\n",
       "      <td>3</td>\n",
       "      <td>3129</td>\n",
       "      <td>No</td>\n",
       "      <td>18558</td>\n",
       "      <td>15.0</td>\n",
       "      <td>37.795392</td>\n",
       "      <td>-122.394203</td>\n",
       "      <td>San Francisco Ferry Building (Harry Bridges Pl...</td>\n",
       "      <td>2018-02-28 23:30:12.450</td>\n",
       "      <td>1981.0</td>\n",
       "      <td>Male</td>\n",
       "      <td>...</td>\n",
       "      <td>Wed</td>\n",
       "      <td>28</td>\n",
       "      <td>18</td>\n",
       "      <td>2</td>\n",
       "      <td>February</td>\n",
       "      <td>Wed</td>\n",
       "      <td>28</td>\n",
       "      <td>23</td>\n",
       "      <td>2</td>\n",
       "      <td>309.300000</td>\n",
       "    </tr>\n",
       "    <tr>\n",
       "      <td>4</td>\n",
       "      <td>1839</td>\n",
       "      <td>Yes</td>\n",
       "      <td>885</td>\n",
       "      <td>297.0</td>\n",
       "      <td>37.322980</td>\n",
       "      <td>-121.887931</td>\n",
       "      <td>Locust St at Grant St</td>\n",
       "      <td>2018-02-28 23:29:58.608</td>\n",
       "      <td>1976.0</td>\n",
       "      <td>Female</td>\n",
       "      <td>...</td>\n",
       "      <td>Wed</td>\n",
       "      <td>28</td>\n",
       "      <td>23</td>\n",
       "      <td>2</td>\n",
       "      <td>February</td>\n",
       "      <td>Wed</td>\n",
       "      <td>28</td>\n",
       "      <td>23</td>\n",
       "      <td>2</td>\n",
       "      <td>14.750000</td>\n",
       "    </tr>\n",
       "  </tbody>\n",
       "</table>\n",
       "<p>5 rows × 28 columns</p>\n",
       "</div>"
      ],
      "text/plain": [
       "   bike_id bike_share_for_all_trip  duration_sec  end_station_id  \\\n",
       "0     1035                      No           598           114.0   \n",
       "1     1673                      No           943           324.0   \n",
       "2     3498                      No         18587            15.0   \n",
       "3     3129                      No         18558            15.0   \n",
       "4     1839                     Yes           885           297.0   \n",
       "\n",
       "   end_station_latitude  end_station_longitude  \\\n",
       "0             37.764478            -122.402570   \n",
       "1             37.788300            -122.408531   \n",
       "2             37.795392            -122.394203   \n",
       "3             37.795392            -122.394203   \n",
       "4             37.322980            -121.887931   \n",
       "\n",
       "                                    end_station_name                end_time  \\\n",
       "0                         Rhode Island St at 17th St 2018-03-01 00:09:45.187   \n",
       "1                Union Square (Powell St at Post St) 2018-02-28 23:36:59.974   \n",
       "2  San Francisco Ferry Building (Harry Bridges Pl... 2018-02-28 23:30:42.925   \n",
       "3  San Francisco Ferry Building (Harry Bridges Pl... 2018-02-28 23:30:12.450   \n",
       "4                              Locust St at Grant St 2018-02-28 23:29:58.608   \n",
       "\n",
       "   member_birth_year member_gender  ...  start_time_weekday  start_time_day  \\\n",
       "0             1988.0          Male  ...                 Wed              28   \n",
       "1             1987.0          Male  ...                 Wed              28   \n",
       "2             1986.0        Female  ...                 Wed              28   \n",
       "3             1981.0          Male  ...                 Wed              28   \n",
       "4             1976.0        Female  ...                 Wed              28   \n",
       "\n",
       "   start_time_hour start_time_month_no end_time_month end_time_weekday  \\\n",
       "0               23                   2          March              Thu   \n",
       "1               23                   2       February              Wed   \n",
       "2               18                   2       February              Wed   \n",
       "3               18                   2       February              Wed   \n",
       "4               23                   2       February              Wed   \n",
       "\n",
       "   end_time_day end_time_hour end_time_month_no  duration_min  \n",
       "0             1             0                 3      9.966667  \n",
       "1            28            23                 2     15.716667  \n",
       "2            28            23                 2    309.783333  \n",
       "3            28            23                 2    309.300000  \n",
       "4            28            23                 2     14.750000  \n",
       "\n",
       "[5 rows x 28 columns]"
      ]
     },
     "execution_count": 47,
     "metadata": {},
     "output_type": "execute_result"
    }
   ],
   "source": [
    "df_master.head()"
   ]
  },
  {
   "cell_type": "code",
   "execution_count": 48,
   "metadata": {},
   "outputs": [
    {
     "data": {
      "text/plain": [
       "Text(0, 0.5, 'Bike Trips')"
      ]
     },
     "execution_count": 48,
     "metadata": {},
     "output_type": "execute_result"
    },
    {
     "data": {
      "image/png": "[encoded data removed]",
      "text/plain": [
       "<Figure size 432x288 with 1 Axes>"
      ]
     },
     "metadata": {
      "needs_background": "light"
     },
     "output_type": "display_data"
    }
   ],
   "source": [
    "# log transformation\n",
    "\n",
    "bin_edges = 10**np.arange(0, 4+0.1 , 0.1)  \n",
    "# 0 means 10^0 is the start point, 4 means 10^4 is the ending point , 10^0.1 is the gap\n",
    "# do i need to increase the max tick\n",
    "ticks = [0.1 , 0.4 , 1 , 4 , 10 , 40 , 100 , 400]\n",
    "labels = ['{}'.format(v) for v in ticks]\n",
    "plt.hist(data = df_master , x = 'duration_min', bins = bin_edges);\n",
    "plt.title('Distribution of Trip Duration(s)')\n",
    "plt.xticks(ticks,labels)\n",
    "plt.xlabel('Duration in Minutes')\n",
    "plt.xscale('log');\n",
    "plt.ylabel('Bike Trips')"
   ]
  },
  {
   "cell_type": "markdown",
   "metadata": {},
   "source": [
    "Under a log scale, we should see that the data is roughly symmetric and that most people take short trips of about 10 min."
   ]
  },
  {
   "cell_type": "markdown",
   "metadata": {},
   "source": [
    "<a id='bivariate'></a>\n",
    "## Bivariate Exploration\n",
    "\n",
    "In this section, we shall investigate relationships between pairs of variables in our data. \n",
    "First, let's explore and discover if the trip duration is affected by weather( months/seasons)?"
   ]
  },
  {
   "cell_type": "code",
   "execution_count": 49,
   "metadata": {},
   "outputs": [
    {
     "data": {
      "text/plain": [
       "August       418047\n",
       "July         385615\n",
       "June         355148\n",
       "April        346920\n",
       "March        344012\n",
       "May          337657\n",
       "October      285272\n",
       "February     270957\n",
       "January      266430\n",
       "September    259263\n",
       "November     212760\n",
       "December     202191\n",
       "Name: start_time_month, dtype: int64"
      ]
     },
     "execution_count": 49,
     "metadata": {},
     "output_type": "execute_result"
    }
   ],
   "source": [
    "df_master.start_time_month.value_counts()"
   ]
  },
  {
   "cell_type": "markdown",
   "metadata": {},
   "source": [
    "To start we shall construct a plot of duration_min against start_time_month. What kind of shape does the relationship between these variables take?"
   ]
  },
  {
   "cell_type": "code",
   "execution_count": 50,
   "metadata": {},
   "outputs": [
    {
     "data": {
      "text/plain": [
       "Text(0, 0.5, 'Duration in Minutes')"
      ]
     },
     "execution_count": 50,
     "metadata": {},
     "output_type": "execute_result"
    },
    {
     "data": {
      "image/png": "[encoded data removed]",
      "text/plain": [
       "<Figure size 864x720 with 1 Axes>"
      ]
     },
     "metadata": {
      "needs_background": "light"
     },
     "output_type": "display_data"
    }
   ],
   "source": [
    "# bivariate plot of duration_min vs. start_time_month\n",
    "plt.figure(figsize = [12, 10])\n",
    "base_color = sb.color_palette()[0]\n",
    "plt.scatter(data = df_master , x = 'start_time_month' , y = 'duration_min')\n",
    "plt.title('Relationship between duration in min and months')\n",
    "plt.xticks(rotation='vertical')\n",
    "plt.xlabel('Months')\n",
    "plt.ylabel('Duration in Minutes')"
   ]
  },
  {
   "cell_type": "markdown",
   "metadata": {},
   "source": [
    "Since these are both numeric variables, a scatterplot is a natural choice. We should recall that the duration_min distribution suggests a logarithmic transformation due to its very long tail. We can try taking a different look with a heat map."
   ]
  },
  {
   "cell_type": "code",
   "execution_count": 51,
   "metadata": {},
   "outputs": [
    {
     "data": {
      "text/plain": [
       "Text(0.5, 1.0, 'Relationship between duration in min and months')"
      ]
     },
     "execution_count": 51,
     "metadata": {},
     "output_type": "execute_result"
    },
    {
     "data": {
      "image/png": "[encoded data removed]",
      "text/plain": [
       "<Figure size 864x720 with 2 Axes>"
      ]
     },
     "metadata": {
      "needs_background": "light"
     },
     "output_type": "display_data"
    }
   ],
   "source": [
    "plt.figure(figsize = [12, 10])\n",
    "bins_x = np.arange(0.5, 10.5+1, 1)\n",
    "bins_y = np.arange(-0.5, 10.5+1, 1)\n",
    "plt.hist2d(data = df_master, x = 'start_time_month_no', y = 'duration_min',\n",
    "           bins = [bins_x, bins_y], cmap = 'viridis_r', cmin = 0.5)\n",
    "plt.colorbar()\n",
    "plt.xlabel('Months')\n",
    "plt.ylabel('Duration in Minutes')\n",
    "plt.title('Relationship between duration in min and months')"
   ]
  },
  {
   "cell_type": "markdown",
   "metadata": {},
   "source": [
    "From the heat map above, we notice that most trips are taken at the start of June and end of August. Which suggests that the longest trip durations happen during the summer. We can further explore this by taking a look at the distribution of different weather seasons i.e. Spring, Summer, Autumn and Winter."
   ]
  },
  {
   "cell_type": "code",
   "execution_count": 52,
   "metadata": {},
   "outputs": [],
   "source": [
    "# Create 4 categories of weather seasons\n",
    "spring = df_master.query('start_time_month_no in [\"3\" , \"4\" , \"5\"]' ).duration_min.mean ()\n",
    "summer = df_master.query('start_time_month_no in [\"6\" , \"7\" , \"8\"] ').duration_min.mean()\n",
    "autumn = df_master.query('start_time_month_no in [\"9\" , \"10\" , \"11\"]').duration_min.mean()\n",
    "winter = df_master.query('start_time_month_no in [\"12\" , \"1\" , \"2\"]').duration_min.mean()"
   ]
  },
  {
   "cell_type": "code",
   "execution_count": 53,
   "metadata": {},
   "outputs": [
    {
     "data": {
      "image/png": "[encoded data removed]",
      "text/plain": [
       "<Figure size 864x720 with 1 Axes>"
      ]
     },
     "metadata": {
      "needs_background": "light"
     },
     "output_type": "display_data"
    }
   ],
   "source": [
    "plt.figure(figsize = [12, 10])\n",
    "plt.bar(['spring','summer','autumn','winter'],[spring , summer , autumn , winter] )\n",
    "plt.title('Distribution of weather seasons ')\n",
    "plt.xlabel('Weather Seasons')\n",
    "plt.ylabel('Trip Duration in Minutes');"
   ]
  },
  {
   "cell_type": "markdown",
   "metadata": {},
   "source": [
    "As observed previously, we can conclude that the longest trip durations happen during summer. We also observe that the differences in trip duration between the other seasons does not change much. This may be attributed to the weather in San Francisco which is mostly warm and dry during Summer (Jun–Aug), with chilly fog mornings and evenings and Winter (Dec–Feb) is cool and rainy."
   ]
  },
  {
   "cell_type": "markdown",
   "metadata": {},
   "source": [
    "<a id='multivariate'></a>\n",
    "## Multivariate Exploration\n",
    "\n",
    "> In this section we shall create plots of three or more variables to investigate our data even further. We shall be exploring to understand if the previous bivariate analysis depends on if a user is a subscriber or customer. For example, does a high trip duration in the summer depend on if a user is a subscriber or a customer."
   ]
  },
  {
   "cell_type": "code",
   "execution_count": 54,
   "metadata": {},
   "outputs": [
    {
     "data": {
      "text/plain": [
       "<Figure size 864x720 with 0 Axes>"
      ]
     },
     "metadata": {},
     "output_type": "display_data"
    },
    {
     "data": {
      "image/png": "[encoded data removed]",
      "text/plain": [
       "<Figure size 1169.12x720 with 1 Axes>"
      ]
     },
     "metadata": {
      "needs_background": "light"
     },
     "output_type": "display_data"
    }
   ],
   "source": [
    "# multivariate plot of duration_min by month, and user type\n",
    "plt.figure(figsize = [12, 10])\n",
    "g = sb.FacetGrid( data = df_master, hue = 'user_type',height = 10, aspect=1.5 )\n",
    "g = g.map(sb.regplot, 'start_time_month' ,'duration_min' , fit_reg = False);\n",
    "g.add_legend()\n",
    "plt.title('Trip Duration(min) Against Month and User Type')\n",
    "plt.xlabel('Months')\n",
    "plt.ylabel('Duration in Min');"
   ]
  },
  {
   "cell_type": "markdown",
   "metadata": {},
   "source": [
    "The above plot suggests that there are far more customers than subscribers. Therefore, it is safe to conclude that user type does not impact trip duration. However, we also observe that subscribed users rent bikes for longer trips of above 300 min."
   ]
  },
  {
   "cell_type": "code",
   "execution_count": null,
   "metadata": {},
   "outputs": [],
   "source": []
  }
 ],
 "metadata": {
  "kernelspec": {
   "display_name": "Python 3",
   "language": "python",
   "name": "python3"
  },
  "language_info": {
   "codemirror_mode": {
    "name": "ipython",
    "version": 3
   },
   "file_extension": ".py",
   "mimetype": "text/x-python",
   "name": "python",
   "nbconvert_exporter": "python",
   "pygments_lexer": "ipython3",
   "version": "3.7.4"
  }
 },
 "nbformat": 4,
 "nbformat_minor": 2
}
